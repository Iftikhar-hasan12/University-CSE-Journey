{
  "nbformat": 4,
  "nbformat_minor": 0,
  "metadata": {
    "colab": {
      "provenance": []
    },
    "kernelspec": {
      "name": "python3",
      "display_name": "Python 3"
    },
    "language_info": {
      "name": "python"
    }
  },
  "cells": [
    {
      "cell_type": "markdown",
      "source": [
        "# **6.1.2 Lab Task (Please implement yourself and show the output to the instructor)**\n",
        "## • Write a python program to find the sum of odd and even numbers from a set of numbers.\n",
        "## • Write a python program to find the smallest number from a set of numbers.\n",
        "## • Write a python program to find the sum of all numbers between 50 and 100, which are divisible by 3 and\n",
        "## not divisible by 5.\n",
        "## • Write a python program to find the second highest number from a set of numbers.\n",
        "## • Write a python program to find the factorial of a number using for loop.\n",
        "## • Write a python program to generate Fibonacci series."
      ],
      "metadata": {
        "id": "Yk0rXZhxqAvk"
      }
    },
    {
      "cell_type": "markdown",
      "source": [
        "Task-01 : Write a python program to find the sum of odd and even numbers from a set of numbers"
      ],
      "metadata": {
        "id": "Wr5V1G1UqOTB"
      }
    },
    {
      "cell_type": "code",
      "source": [
        "ar = [1,2,3,4,5,6,7,8,9,10]"
      ],
      "metadata": {
        "id": "KsFD2QjnqfIH"
      },
      "execution_count": 1,
      "outputs": []
    },
    {
      "cell_type": "code",
      "source": [
        "ar"
      ],
      "metadata": {
        "colab": {
          "base_uri": "https://localhost:8080/"
        },
        "id": "OAz65gJuqrWu",
        "outputId": "8e6ba934-8ca1-4dd1-9642-369224126cd5"
      },
      "execution_count": 2,
      "outputs": [
        {
          "output_type": "execute_result",
          "data": {
            "text/plain": [
              "[1, 2, 3, 4, 5, 6, 7, 8, 9, 10]"
            ]
          },
          "metadata": {},
          "execution_count": 2
        }
      ]
    },
    {
      "cell_type": "code",
      "source": [
        "even=0\n",
        "odd=0\n",
        "for i in ar:\n",
        "  if i%2==0:\n",
        "    even+=i\n",
        "  else:\n",
        "    odd+=i\n",
        "\n",
        "\n",
        "\n"
      ],
      "metadata": {
        "id": "qgkYmu7Mqr5B"
      },
      "execution_count": 6,
      "outputs": []
    },
    {
      "cell_type": "code",
      "source": [
        "even"
      ],
      "metadata": {
        "colab": {
          "base_uri": "https://localhost:8080/"
        },
        "id": "ispkQiRMrEk7",
        "outputId": "90ef5f30-98a6-473b-faa5-c7686b5ea666"
      },
      "execution_count": 7,
      "outputs": [
        {
          "output_type": "execute_result",
          "data": {
            "text/plain": [
              "30"
            ]
          },
          "metadata": {},
          "execution_count": 7
        }
      ]
    },
    {
      "cell_type": "code",
      "source": [
        "odd"
      ],
      "metadata": {
        "colab": {
          "base_uri": "https://localhost:8080/"
        },
        "id": "fqLQCMNfrNCK",
        "outputId": "0b62663e-835f-4c9e-89de-f8ce0b0c9a70"
      },
      "execution_count": 8,
      "outputs": [
        {
          "output_type": "execute_result",
          "data": {
            "text/plain": [
              "25"
            ]
          },
          "metadata": {},
          "execution_count": 8
        }
      ]
    },
    {
      "cell_type": "markdown",
      "source": [
        "• Write a python program to find the smallest number from a set of numbers."
      ],
      "metadata": {
        "id": "x9GVw1YHrN11"
      }
    },
    {
      "cell_type": "code",
      "source": [
        "mini=999999\n",
        "for i in ar:\n",
        "  if mini > i:\n",
        "    mini=i\n",
        "\n",
        "mini\n",
        "\n"
      ],
      "metadata": {
        "colab": {
          "base_uri": "https://localhost:8080/"
        },
        "id": "pyzWSaG_rgv1",
        "outputId": "9e55eaac-9f9a-4235-f407-2a67ca4c3f81"
      },
      "execution_count": 9,
      "outputs": [
        {
          "output_type": "execute_result",
          "data": {
            "text/plain": [
              "1"
            ]
          },
          "metadata": {},
          "execution_count": 9
        }
      ]
    },
    {
      "cell_type": "markdown",
      "source": [
        "Write a python program to find the sum of all numbers between 50 and 100, which are divisible by 3 and not divisible by 5"
      ],
      "metadata": {
        "id": "z3r3tw2tr1RP"
      }
    },
    {
      "cell_type": "code",
      "source": [
        "sum=0\n",
        "for i in range(50,101):\n",
        "  if(i%3==0 and i%5!=0):\n",
        "    sum+=i\n",
        "\n",
        ""
      ],
      "metadata": {
        "id": "0hq8jYCGr60L"
      },
      "execution_count": 19,
      "outputs": []
    },
    {
      "cell_type": "code",
      "source": [
        "sum"
      ],
      "metadata": {
        "colab": {
          "base_uri": "https://localhost:8080/"
        },
        "id": "k0U-FUKEsAr8",
        "outputId": "c47b60c7-1c3e-4571-e00c-f6b240871382"
      },
      "execution_count": 20,
      "outputs": [
        {
          "output_type": "execute_result",
          "data": {
            "text/plain": [
              "1050"
            ]
          },
          "metadata": {},
          "execution_count": 20
        }
      ]
    },
    {
      "cell_type": "markdown",
      "source": [
        "Write a python program to find the second highest number from a set of numbers."
      ],
      "metadata": {
        "id": "capD6K8dshDF"
      }
    },
    {
      "cell_type": "code",
      "source": [
        "arr =[10,20,30,20,25,50]"
      ],
      "metadata": {
        "id": "e7V6VqYPs3WY"
      },
      "execution_count": 23,
      "outputs": []
    },
    {
      "cell_type": "code",
      "source": [
        "arr"
      ],
      "metadata": {
        "colab": {
          "base_uri": "https://localhost:8080/"
        },
        "id": "fy8HpTpms5Hg",
        "outputId": "7890198d-4ea4-4c36-ede5-944447329417"
      },
      "execution_count": 24,
      "outputs": [
        {
          "output_type": "execute_result",
          "data": {
            "text/plain": [
              "[10, 20, 30, 20, 25, 50]"
            ]
          },
          "metadata": {},
          "execution_count": 24
        }
      ]
    },
    {
      "cell_type": "code",
      "source": [
        "type(arr)"
      ],
      "metadata": {
        "colab": {
          "base_uri": "https://localhost:8080/"
        },
        "id": "pCDtD5TVtQcS",
        "outputId": "56019a06-ec82-47a1-c6a4-944671a41652"
      },
      "execution_count": 27,
      "outputs": [
        {
          "output_type": "execute_result",
          "data": {
            "text/plain": [
              "list"
            ]
          },
          "metadata": {},
          "execution_count": 27
        }
      ]
    },
    {
      "cell_type": "code",
      "source": [
        "arr = list(set(arr))"
      ],
      "metadata": {
        "id": "ORMYVqNatSie"
      },
      "execution_count": 30,
      "outputs": []
    },
    {
      "cell_type": "code",
      "source": [
        "arr"
      ],
      "metadata": {
        "colab": {
          "base_uri": "https://localhost:8080/"
        },
        "id": "wuMFDQk4uuVf",
        "outputId": "ae313501-6b6e-439e-d973-eacc3cef2f17"
      },
      "execution_count": 31,
      "outputs": [
        {
          "output_type": "execute_result",
          "data": {
            "text/plain": [
              "[10, 50, 20, 25, 30]"
            ]
          },
          "metadata": {},
          "execution_count": 31
        }
      ]
    },
    {
      "cell_type": "code",
      "source": [
        "arr.sort(reverse=True)"
      ],
      "metadata": {
        "id": "332cn-2fvHKV"
      },
      "execution_count": 34,
      "outputs": []
    },
    {
      "cell_type": "code",
      "source": [
        "arr"
      ],
      "metadata": {
        "colab": {
          "base_uri": "https://localhost:8080/"
        },
        "id": "Hj8bA_rovO-Z",
        "outputId": "8c812fdb-93a5-4174-a491-bfa19b3a87b5"
      },
      "execution_count": 35,
      "outputs": [
        {
          "output_type": "execute_result",
          "data": {
            "text/plain": [
              "[50, 30, 25, 20, 10]"
            ]
          },
          "metadata": {},
          "execution_count": 35
        }
      ]
    },
    {
      "cell_type": "code",
      "source": [
        "arr[1]"
      ],
      "metadata": {
        "colab": {
          "base_uri": "https://localhost:8080/"
        },
        "id": "qabG00xVvPaq",
        "outputId": "7c706d1f-61f4-420a-adc1-ead8d84a51d5"
      },
      "execution_count": 36,
      "outputs": [
        {
          "output_type": "execute_result",
          "data": {
            "text/plain": [
              "30"
            ]
          },
          "metadata": {},
          "execution_count": 36
        }
      ]
    },
    {
      "cell_type": "markdown",
      "source": [
        "• Write a python program to find the factorial of a number using for loop."
      ],
      "metadata": {
        "id": "6NgwXQVfvclM"
      }
    },
    {
      "cell_type": "code",
      "source": [
        "def fact(a):\n",
        "  mul=1\n",
        "  for i in range(1,a+1):\n",
        "    mul*=i\n",
        "\n",
        "  return mul\n"
      ],
      "metadata": {
        "id": "KaceuoNkviWm"
      },
      "execution_count": 40,
      "outputs": []
    },
    {
      "cell_type": "code",
      "source": [
        "fact(6)"
      ],
      "metadata": {
        "colab": {
          "base_uri": "https://localhost:8080/"
        },
        "id": "8GQdHF3kv_Gv",
        "outputId": "58243137-375f-4f99-e0a5-39e74b135980"
      },
      "execution_count": 42,
      "outputs": [
        {
          "output_type": "execute_result",
          "data": {
            "text/plain": [
              "720"
            ]
          },
          "metadata": {},
          "execution_count": 42
        }
      ]
    },
    {
      "cell_type": "markdown",
      "source": [
        "• Write a python program to generate Fibonacci series."
      ],
      "metadata": {
        "id": "DDjr4uA2wAzt"
      }
    },
    {
      "cell_type": "markdown",
      "source": [
        "#**7.2Lab Task (Please implement yourself and show the output to the instructor)**\n",
        "##• Write a python program to find the largest number between two numbers using function\n",
        "##• Write a python program to find the sum of the numbers passed as parameters."
      ],
      "metadata": {
        "id": "BYrdIauPwLyq"
      }
    },
    {
      "cell_type": "code",
      "source": [
        "def fun(a,b):\n",
        "  if a>=b:\n",
        "    return a\n",
        "  else:\n",
        "    return b"
      ],
      "metadata": {
        "id": "bKkwGPoywz6Q"
      },
      "execution_count": 44,
      "outputs": []
    },
    {
      "cell_type": "code",
      "source": [
        "fun(50,0)"
      ],
      "metadata": {
        "colab": {
          "base_uri": "https://localhost:8080/"
        },
        "id": "QFSBMvY5xGyH",
        "outputId": "dfa17f9c-e7eb-4756-96b7-783014b20e61"
      },
      "execution_count": 48,
      "outputs": [
        {
          "output_type": "execute_result",
          "data": {
            "text/plain": [
              "50"
            ]
          },
          "metadata": {},
          "execution_count": 48
        }
      ]
    },
    {
      "cell_type": "code",
      "source": [
        "#• Write a python program to find the sum of the numbers passed as parameters."
      ],
      "metadata": {
        "id": "Eym8-UFzxKeM"
      },
      "execution_count": 49,
      "outputs": []
    },
    {
      "cell_type": "code",
      "source": [
        "def sum(a,b):\n",
        "  return a+b"
      ],
      "metadata": {
        "id": "qtgge7DyxTsE"
      },
      "execution_count": 50,
      "outputs": []
    },
    {
      "cell_type": "code",
      "source": [
        "sum(5,8)"
      ],
      "metadata": {
        "colab": {
          "base_uri": "https://localhost:8080/"
        },
        "id": "bNGj12ZHxZ2f",
        "outputId": "1275d302-8bd0-44b5-9b6c-38d22d0394e0"
      },
      "execution_count": 51,
      "outputs": [
        {
          "output_type": "execute_result",
          "data": {
            "text/plain": [
              "13"
            ]
          },
          "metadata": {},
          "execution_count": 51
        }
      ]
    },
    {
      "cell_type": "code",
      "source": [],
      "metadata": {
        "id": "HD_5Er2AxbDd"
      },
      "execution_count": null,
      "outputs": []
    }
  ]
}