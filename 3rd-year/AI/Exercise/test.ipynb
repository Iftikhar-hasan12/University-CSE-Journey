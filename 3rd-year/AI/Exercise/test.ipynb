{
 "cells": [
  {
   "cell_type": "code",
   "execution_count": 2,
   "id": "66bb7aae",
   "metadata": {},
   "outputs": [],
   "source": [
    "# Write a program to print numbers from 1 to 100 using all three loops (for, while, and do–while).\n",
    "# Write a program to find the sum of the first N natural numbers.\n",
    "# Write a program to calculate the factorial of a given number.\n",
    "# Write a program to reverse a given number.\n",
    "# Write a program to count the number of digits and find the sum of digits in a given number.\n",
    "# Write a program to generate and display the multiplication table of any given number.\n",
    "# Write a program to print all even numbers between two given limits.\n",
    "# Write a program to check whether a given number is a Prime number.\n",
    "# Write a program to check whether a given number is a Perfect number.\n",
    "# Write a program to check whether a given number is a Strong number.\n",
    "# Write a program to check whether a given number is a Spy number.\n",
    "# Write a program to check whether a given number is an Armstrong number.\n",
    "# Write a program to check whether a given number is a Palindrome number.\n",
    "\n"
   ]
  },
  {
   "cell_type": "code",
   "execution_count": 4,
   "id": "f0bff874",
   "metadata": {},
   "outputs": [],
   "source": [
    "# Write a program to print numbers from 1 to 100 using all three loops (for, while, and do–while)."
   ]
  },
  {
   "cell_type": "code",
   "execution_count": 8,
   "id": "7915f76a",
   "metadata": {},
   "outputs": [
    {
     "name": "stdout",
     "output_type": "stream",
     "text": [
      "1 2 3 4 5 6 7 8 9 10 "
     ]
    }
   ],
   "source": [
    "# With For loop\n",
    "for i in range(1,11):\n",
    "    print(i, end=\" \")\n",
    "    "
   ]
  },
  {
   "cell_type": "code",
   "execution_count": 10,
   "id": "d1ccfb00",
   "metadata": {},
   "outputs": [
    {
     "name": "stdout",
     "output_type": "stream",
     "text": [
      "1 2 3 4 5 6 7 8 9 10 "
     ]
    }
   ],
   "source": [
    "# With while loop\n",
    "i=1\n",
    "while i<11:\n",
    "    print(i, end=\" \")\n",
    "    i+=1"
   ]
  },
  {
   "cell_type": "code",
   "execution_count": 12,
   "id": "ad4afce7",
   "metadata": {},
   "outputs": [
    {
     "name": "stdout",
     "output_type": "stream",
     "text": [
      "1 2 3 4 5 6 7 8 9 10 "
     ]
    }
   ],
   "source": [
    "# With do while loop\n",
    "i = 1\n",
    "while True:\n",
    "    print(i,end=\" \")\n",
    "    i+=1\n",
    "    if i>10:\n",
    "        break"
   ]
  },
  {
   "cell_type": "code",
   "execution_count": 14,
   "id": "832ad0ca",
   "metadata": {},
   "outputs": [],
   "source": [
    "# Write a program to find the sum of the first N natural numbers."
   ]
  },
  {
   "cell_type": "code",
   "execution_count": 18,
   "id": "76f681a6",
   "metadata": {},
   "outputs": [
    {
     "name": "stdout",
     "output_type": "stream",
     "text": [
      "Sum is :  45\n"
     ]
    }
   ],
   "source": [
    "n = int(input(\"Enter N-th number : \"))\n",
    "sum=0\n",
    "for i in range(1,n):\n",
    "    sum+=i\n",
    "print(\"Sum is : \",sum)"
   ]
  },
  {
   "cell_type": "code",
   "execution_count": 20,
   "id": "6c15730b",
   "metadata": {},
   "outputs": [],
   "source": [
    "# Write a program to calculate the factorial of a given number."
   ]
  },
  {
   "cell_type": "code",
   "execution_count": null,
   "id": "d8fe7990",
   "metadata": {},
   "outputs": [],
   "source": []
  },
  {
   "cell_type": "code",
   "execution_count": 25,
   "id": "f337b856",
   "metadata": {},
   "outputs": [
    {
     "name": "stdout",
     "output_type": "stream",
     "text": [
      "Factorial no:  24\n"
     ]
    }
   ],
   "source": [
    "n = int(input(\"Enter Number for find the factorial : \"))\n",
    "fact=1\n",
    "for i in range(n, 1,-1):\n",
    "    fact*=i\n",
    "print(\"Factorial no: \",fact)"
   ]
  },
  {
   "cell_type": "code",
   "execution_count": 26,
   "id": "eff03e80",
   "metadata": {},
   "outputs": [],
   "source": [
    "# Write a program to reverse a given number."
   ]
  },
  {
   "cell_type": "code",
   "execution_count": 28,
   "id": "cca5f9f7",
   "metadata": {},
   "outputs": [
    {
     "name": "stdout",
     "output_type": "stream",
     "text": [
      "Reverse :  321\n"
     ]
    }
   ],
   "source": [
    "n = int(input(\"Enter number : \"))\n",
    "rev = 0\n",
    "while n>0:\n",
    "    rem = n%10\n",
    "    rev = rev*10 + rem\n",
    "    n//=10\n",
    "print(\"Reverse : \",rev)"
   ]
  },
  {
   "cell_type": "code",
   "execution_count": 30,
   "id": "59b42b54",
   "metadata": {},
   "outputs": [
    {
     "name": "stdout",
     "output_type": "stream",
     "text": [
      "Entered Number :  12345\n",
      "The length of the number is :  5\n",
      "The sum of the digits is :  15\n"
     ]
    }
   ],
   "source": [
    "# Write a program to count the number of digits and find the sum of digits in a given number.\n",
    "n = int(input(\"Enter a number : \"))\n",
    "\n",
    "print(\"Entered Number : \",n)\n",
    "cnt=len(str(n))\n",
    "sum=0\n",
    "while n>0:\n",
    "    sum+=n%10\n",
    "    n//=10\n",
    "print(\"The length of the number is : \",cnt)\n",
    "print(\"The sum of the digits is : \",sum)\n",
    "    "
   ]
  },
  {
   "cell_type": "code",
   "execution_count": 31,
   "id": "9101af41",
   "metadata": {},
   "outputs": [],
   "source": [
    "# Write a program to generate and display the multiplication table of any given number."
   ]
  },
  {
   "cell_type": "code",
   "execution_count": 32,
   "id": "d300c085",
   "metadata": {},
   "outputs": [
    {
     "name": "stdout",
     "output_type": "stream",
     "text": [
      "Multiplication table of  5\n",
      "1  X  5  =  5\n",
      "2  X  5  =  10\n",
      "3  X  5  =  15\n",
      "4  X  5  =  20\n",
      "5  X  5  =  25\n",
      "6  X  5  =  30\n",
      "7  X  5  =  35\n",
      "8  X  5  =  40\n",
      "9  X  5  =  45\n",
      "10  X  5  =  50\n"
     ]
    }
   ],
   "source": [
    "n = int(input(\"Enter a number :\"))\n",
    "print(\"Multiplication table of \",n)\n",
    "for i in range(1,11):\n",
    "    print(i, \" X \",n,\" = \", i*n)"
   ]
  },
  {
   "cell_type": "code",
   "execution_count": 33,
   "id": "616eaf1e",
   "metadata": {},
   "outputs": [],
   "source": [
    "# Write a program to print all even numbers between two given limits."
   ]
  },
  {
   "cell_type": "code",
   "execution_count": 35,
   "id": "8678b44b",
   "metadata": {},
   "outputs": [
    {
     "name": "stdout",
     "output_type": "stream",
     "text": [
      "2 4 6 8 10 12 14 16 18 "
     ]
    }
   ],
   "source": [
    "start = int(input(\"Enter Start : \"))\n",
    "end = int(input(\"Enter end \"))\n",
    "for i in range (start, end):\n",
    "    if i%2==0:\n",
    "        print(i, end=\" \")"
   ]
  },
  {
   "cell_type": "code",
   "execution_count": 36,
   "id": "d4341fdb",
   "metadata": {},
   "outputs": [],
   "source": [
    "# Write a program to check whether a given number is a Prime number."
   ]
  },
  {
   "cell_type": "code",
   "execution_count": 37,
   "id": "eb01334d",
   "metadata": {},
   "outputs": [],
   "source": [
    "# prime number check function\n",
    "def isPrime(num):\n",
    "    for i in range(2,num):\n",
    "        if num%i==0:\n",
    "            return False\n",
    "    return True"
   ]
  },
  {
   "cell_type": "code",
   "execution_count": 39,
   "id": "659d7cb5",
   "metadata": {},
   "outputs": [
    {
     "data": {
      "text/plain": [
       "False"
      ]
     },
     "execution_count": 39,
     "metadata": {},
     "output_type": "execute_result"
    }
   ],
   "source": [
    "isPrime(50)"
   ]
  },
  {
   "cell_type": "code",
   "execution_count": 40,
   "id": "41690ff8",
   "metadata": {},
   "outputs": [],
   "source": [
    "# Write a program to check whether a given number is a Perfect number."
   ]
  },
  {
   "cell_type": "code",
   "execution_count": 41,
   "id": "0f7064c9",
   "metadata": {},
   "outputs": [],
   "source": [
    "# Patterns\n",
    "# Write a program to print a right-angled triangle pattern of stars based on the number of rows entered by the user.\n",
    "# Write a program to print a pyramid pattern of stars using nested loops.\n",
    "# Write a program to print an inverted right-angled triangle pattern of stars.\n",
    "# Write a program to print Floyd’s triangle up to a given number of rows.\n",
    "# Write a program to print Pascal’s triangle up to a given number of rows.\n",
    "# Write a program to print a hollow square pattern of stars.\n",
    "# Write a program to print a diamond-shaped pattern of stars.\n"
   ]
  },
  {
   "cell_type": "code",
   "execution_count": 42,
   "id": "1cd0e2c3",
   "metadata": {},
   "outputs": [],
   "source": [
    "# Write a program to print a right-angled triangle pattern of stars based on the number of rows entered by the user."
   ]
  },
  {
   "cell_type": "code",
   "execution_count": 44,
   "id": "30024380",
   "metadata": {},
   "outputs": [
    {
     "name": "stdout",
     "output_type": "stream",
     "text": [
      "* \n",
      "\n",
      "* * \n",
      "\n",
      "* * * \n",
      "\n",
      "* * * * \n",
      "\n",
      "* * * * * \n",
      "\n"
     ]
    }
   ],
   "source": [
    "n = 6\n",
    "for i in range(1,n):\n",
    "    for j in range(1,i+1):\n",
    "        print(\"*\",end=\" \")\n",
    "    print(\"\\n\")\n",
    "        "
   ]
  },
  {
   "cell_type": "code",
   "execution_count": 45,
   "id": "32336ce4",
   "metadata": {},
   "outputs": [],
   "source": [
    "# Write a program to print a pyramid pattern of stars using nested loops."
   ]
  },
  {
   "cell_type": "code",
   "execution_count": 51,
   "id": "a99987f7",
   "metadata": {},
   "outputs": [
    {
     "name": "stdout",
     "output_type": "stream",
     "text": [
      "    * \n",
      "\n",
      "   * * * \n",
      "\n",
      "  * * * * * \n",
      "\n",
      " * * * * * * * \n",
      "\n",
      "* * * * * * * * * \n",
      "\n"
     ]
    }
   ],
   "source": [
    "n = 6\n",
    "for i in range(1,n):\n",
    "    for sp in range(1,n-i):\n",
    "        print(end=\" \")\n",
    "            \n",
    "    for j in range(1,i*2):\n",
    "        \n",
    "        print(\"*\", end=\" \")\n",
    "    print(\"\\n\")\n",
    "    "
   ]
  },
  {
   "cell_type": "code",
   "execution_count": 52,
   "id": "7049294b",
   "metadata": {},
   "outputs": [],
   "source": [
    "# Write a program to print an inverted right-angled triangle pattern of stars."
   ]
  },
  {
   "cell_type": "code",
   "execution_count": null,
   "id": "4baa4c97",
   "metadata": {},
   "outputs": [],
   "source": []
  }
 ],
 "metadata": {
  "kernelspec": {
   "display_name": "Python 3",
   "language": "python",
   "name": "python3"
  },
  "language_info": {
   "codemirror_mode": {
    "name": "ipython",
    "version": 3
   },
   "file_extension": ".py",
   "mimetype": "text/x-python",
   "name": "python",
   "nbconvert_exporter": "python",
   "pygments_lexer": "ipython3",
   "version": "3.9.13"
  }
 },
 "nbformat": 4,
 "nbformat_minor": 5
}
